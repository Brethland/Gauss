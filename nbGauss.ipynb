{
 "cells": [
  {
   "cell_type": "code",
   "execution_count": 10,
   "id": "ce96a8c8",
   "metadata": {},
   "outputs": [
    {
     "name": "stdout",
     "output_type": "stream",
     "text": [
      "Python 3.11.3\n"
     ]
    }
   ],
   "source": [
    "!python3 --version\n",
    "#!python --version\n",
    "#!jupyter --version\n",
    "\n",
    "import inspect\n",
    "\n",
    "from algebra import *\n",
    "from gauss_iterative import *\n",
    "from gauss_recursive import *\n",
    "from example import *"
   ]
  },
  {
   "attachments": {},
   "cell_type": "markdown",
   "id": "a9df72f0",
   "metadata": {},
   "source": [
    "# Gaussian Elimination in plain python"
   ]
  },
  {
   "attachments": {},
   "cell_type": "markdown",
   "id": "71d5f56c",
   "metadata": {},
   "source": [
    "## Motivation\n",
    "\n",
    "Gaussian algorithm is constantly performed in scientific computing of matrix.\n",
    "It is the basis of investigating many properties of matrix, like rank, inverse, kernel and of course the linear equation system. \n",
    "\n",
    "#TODO: Show example of a matrix in general and row_echelon form, containing some zero rows.\n",
    "\n",
    "### Goal\n",
    "Translate the often human oriented algorithm instructions into proper tasks working on a computer.\n",
    "\n",
    "We have to find representations in code for concepts like \"cross the first column off mentally\" or\n",
    "\"swap the row with a *suitable* row\". \n",
    "\n",
    "We need to judge whether it makes sense to stick to the recipe (global vs. local vision) or if there are some (heuristic) shortcuts for the computer.\n",
    "\n",
    "![](gauss1.jpeg)\n",
    "_Source: Page 60 of the textbook of Fraleigh and Beauregard on Linear Algebra (3rd edition, 1995)._"
   ]
  },
  {
   "attachments": {},
   "cell_type": "markdown",
   "id": "9c4a97d8",
   "metadata": {},
   "source": [
    "## Implementation\n",
    "\n",
    "### Datatypes for type hints\n",
    "```python\n",
    "from fractions import Fraction\n",
    "F = Fraction | float | int \n",
    "R = list[F]\n",
    "M = list[R]    # 0-based indexing\n",
    "```\n",
    "\n",
    "### Algebra on Matrix\n",
    "```python\n",
    "# Scalar Multiplication\n",
    "def scalar_mult(M1: M, k: F) -> M\n",
    "# Addition\n",
    "def add(M1: M, M2: M) -> M\n",
    "# Multiplication\n",
    "def mult(M1: M, M2: M) -> M\n",
    "# Take the cth-column\n",
    "def column(M1: M, c: int) -> R\n",
    "```\n",
    "\n",
    "### Actions and their Elementary Matrices\n",
    "```python\n",
    "# Identity Matrix\n",
    "def I(n: int) -> M\n",
    "# Swap two rows\n",
    "def S(n: int, r1: int, r2: int) -> M\n",
    "# Multiply a row a times\n",
    "def M(n: int, r1: int, a: F) -> M\n",
    "# Add a times of r2 into r1\n",
    "def A(n: int, r1: int, r2: int, a: F) -> M\n",
    "```"
   ]
  },
  {
   "cell_type": "code",
   "execution_count": null,
   "id": "3ee9ed4a",
   "metadata": {},
   "outputs": [],
   "source": [
    "simpleM = [ [1,2,3], [2,0,1], [1,2,5]]\n",
    "#simpleM = I(3)\n",
    "\n",
    "show(simpleM)\n",
    "show(inverse(simpleM))"
   ]
  },
  {
   "cell_type": "code",
   "execution_count": null,
   "id": "c382692a",
   "metadata": {
    "scrolled": true
   },
   "outputs": [],
   "source": [
    "show(I(len(simpleM)))"
   ]
  },
  {
   "cell_type": "code",
   "execution_count": null,
   "id": "6ef24bcd",
   "metadata": {},
   "outputs": [],
   "source": [
    "show(mult(I(3), simpleM))\n",
    "\n",
    "show(inverse(simpleM))\n",
    "assert mult(I(3), simpleM) == mult(inverse(simpleM), I(len(inverse(simpleM))))"
   ]
  },
  {
   "cell_type": "code",
   "execution_count": null,
   "id": "0b08e51c",
   "metadata": {},
   "outputs": [],
   "source": [
    "show(mult(M(2, 0, 2), simpleM))"
   ]
  },
  {
   "cell_type": "code",
   "execution_count": 11,
   "id": "858632d7",
   "metadata": {},
   "outputs": [
    {
     "name": "stdout",
     "output_type": "stream",
     "text": [
      "\n",
      "Working on matrix of size 3 x 3\n",
      "\n",
      "-- Establish a useful toprow --\n",
      "\n",
      "No need to swap rows. Current pivot is fine\n",
      "\n",
      "\n",
      "-- Create zeroes below the pivot --\n",
      "\n",
      "Created 0 below pivot in row 3 by adding -1.0 * row 1 to it.\n",
      "\n",
      "1\t2\t3\n",
      "0\t0\t1\n",
      "0.0\t0.0\t2.0\n",
      "\n",
      "\tWorking on matrix of size 2 x 2\n",
      "\n",
      "\t-- Establish a useful toprow --\n"
     ]
    },
    {
     "ename": "TypeError",
     "evalue": "list indices must be integers or slices, not NoneType",
     "output_type": "error",
     "traceback": [
      "\u001b[0;31m---------------------------------------------------------------------------\u001b[0m",
      "\u001b[0;31mTypeError\u001b[0m                                 Traceback (most recent call last)",
      "Cell \u001b[0;32mIn[11], line 3\u001b[0m\n\u001b[1;32m      1\u001b[0m \u001b[39m# not invertible\u001b[39;00m\n\u001b[1;32m      2\u001b[0m notinvM \u001b[39m=\u001b[39m [ [\u001b[39m1\u001b[39m,\u001b[39m2\u001b[39m,\u001b[39m3\u001b[39m], [\u001b[39m0\u001b[39m,\u001b[39m0\u001b[39m,\u001b[39m1\u001b[39m], [\u001b[39m1\u001b[39m,\u001b[39m2\u001b[39m,\u001b[39m5\u001b[39m]]\n\u001b[0;32m----> 3\u001b[0m gauss_rec_go(notinvM)   \u001b[39m# that does not look good. It was finished after step 1 actually but kept going.\u001b[39;00m\n\u001b[1;32m      4\u001b[0m show(inverse(notinvM))  \u001b[39m# inverting fails\u001b[39;00m\n",
      "File \u001b[0;32m~/Documents/Gauss/gauss_recursive.py:109\u001b[0m, in \u001b[0;36mgauss_rec_go\u001b[0;34m(m)\u001b[0m\n\u001b[1;32m    107\u001b[0m \u001b[39mif\u001b[39;00m m \u001b[39m==\u001b[39m [[\u001b[39m0\u001b[39m] \u001b[39m*\u001b[39m n_cols] \u001b[39m*\u001b[39m n_rows:\n\u001b[1;32m    108\u001b[0m     \u001b[39mreturn\u001b[39;00m m\n\u001b[0;32m--> 109\u001b[0m \u001b[39mreturn\u001b[39;00m gauss_rec(m, \u001b[39m0\u001b[39;49m, \u001b[39m0\u001b[39;49m, n_rows, n_cols, [], \u001b[39m0\u001b[39;49m)\n",
      "File \u001b[0;32m~/Documents/Gauss/gauss_recursive.py:98\u001b[0m, in \u001b[0;36mgauss_rec\u001b[0;34m(m, nowrow, nowcol, n_rows, n_cols, stack, depth)\u001b[0m\n\u001b[1;32m     93\u001b[0m         \u001b[39mprint\u001b[39m(\n\u001b[1;32m     94\u001b[0m             \u001b[39mf\u001b[39m\u001b[39m\"\u001b[39m\u001b[39m\\n\u001b[39;00m\u001b[39m{\u001b[39;00mindentation\u001b[39m}\u001b[39;00m\u001b[39mCreated 0 below pivot in row \u001b[39m\u001b[39m{\u001b[39;00mrowindex\u001b[39m \u001b[39m\u001b[39m+\u001b[39m\u001b[39m \u001b[39m\u001b[39m1\u001b[39m\u001b[39m}\u001b[39;00m\u001b[39m by adding \u001b[39m\u001b[39m{\u001b[39;00minv_scalar\u001b[39m}\u001b[39;00m\u001b[39m * row \u001b[39m\u001b[39m{\u001b[39;00mnowrow\u001b[39m \u001b[39m\u001b[39m+\u001b[39m\u001b[39m \u001b[39m\u001b[39m1\u001b[39m\u001b[39m}\u001b[39;00m\u001b[39m to it.\u001b[39m\u001b[39m\\n\u001b[39;00m\u001b[39m\"\u001b[39m\n\u001b[1;32m     95\u001b[0m         )\n\u001b[1;32m     96\u001b[0m         show_indent(m, depth)\n\u001b[0;32m---> 98\u001b[0m \u001b[39mreturn\u001b[39;00m gauss_rec(m, nowrow \u001b[39m+\u001b[39;49m \u001b[39m1\u001b[39;49m, nowcol \u001b[39m+\u001b[39;49m \u001b[39m1\u001b[39;49m, n_rows, n_cols, stack, depth \u001b[39m+\u001b[39;49m \u001b[39m1\u001b[39;49m)\n",
      "File \u001b[0;32m~/Documents/Gauss/gauss_recursive.py:57\u001b[0m, in \u001b[0;36mgauss_rec\u001b[0;34m(m, nowrow, nowcol, n_rows, n_cols, stack, depth)\u001b[0m\n\u001b[1;32m     55\u001b[0m pivot \u001b[39m=\u001b[39m m[nowrow][nowcol]\n\u001b[1;32m     56\u001b[0m \u001b[39mif\u001b[39;00m pivot \u001b[39m==\u001b[39m \u001b[39m0\u001b[39m:\n\u001b[0;32m---> 57\u001b[0m     elem_swap \u001b[39m=\u001b[39m S(n_rows, nowrow, find_pivot_row_index(column(m, nowcol)[nowrow:]))\n\u001b[1;32m     58\u001b[0m     \u001b[39mif\u001b[39;00m trace:\n\u001b[1;32m     59\u001b[0m         stack\u001b[39m.\u001b[39mappend(elem_swap)\n",
      "File \u001b[0;32m~/Documents/Gauss/algebra.py:99\u001b[0m, in \u001b[0;36mS\u001b[0;34m(n, r1, r2)\u001b[0m\n\u001b[1;32m     96\u001b[0m \u001b[39m\u001b[39m\u001b[39m\"\"\"return a swap matrix by row r1 and r2 with dimension n\"\"\"\u001b[39;00m\n\u001b[1;32m     98\u001b[0m s \u001b[39m=\u001b[39m I(n)\n\u001b[0;32m---> 99\u001b[0m s[r2], s[r1] \u001b[39m=\u001b[39m s[r1], s[r2]\n\u001b[1;32m    100\u001b[0m \u001b[39mreturn\u001b[39;00m s\n",
      "\u001b[0;31mTypeError\u001b[0m: list indices must be integers or slices, not NoneType"
     ]
    }
   ],
   "source": [
    "# not invertible\n",
    "notinvM = [ [1,2,3], [0,0,1], [1,2,5]]\n",
    "gauss_rec_go(notinvM)   # that does not look good. It was finished after step 1 actually but kept going.\n",
    "show(inverse(notinvM))  # inverting fails"
   ]
  },
  {
   "attachments": {},
   "cell_type": "markdown",
   "id": "b0a5f26e",
   "metadata": {},
   "source": [
    "## Demos\n",
    "Let's first show some examples."
   ]
  },
  {
   "cell_type": "code",
   "execution_count": null,
   "id": "4eb23f0e",
   "metadata": {},
   "outputs": [],
   "source": [
    "show(Real_Matrix)"
   ]
  },
  {
   "cell_type": "code",
   "execution_count": null,
   "id": "23e1388a",
   "metadata": {},
   "outputs": [],
   "source": [
    "Real_echelon, _, Elementary_trace = gauss_algorithm_iterative(Real_Matrix, True)\n",
    "show(Real_echelon)"
   ]
  },
  {
   "cell_type": "code",
   "execution_count": null,
   "id": "c3276273",
   "metadata": {},
   "outputs": [],
   "source": [
    "steps = StepByStep(Real_Matrix, Elementary_trace)"
   ]
  },
  {
   "cell_type": "code",
   "execution_count": null,
   "id": "3bcaba39",
   "metadata": {},
   "outputs": [],
   "source": [
    "try:\n",
    "    next(steps)\n",
    "except:\n",
    "    print(\"This is the end of the algorithm!\")"
   ]
  },
  {
   "cell_type": "code",
   "execution_count": null,
   "id": "b4e4b60b",
   "metadata": {},
   "outputs": [],
   "source": [
    "show(Rational_Matrix)"
   ]
  },
  {
   "cell_type": "code",
   "execution_count": null,
   "id": "20b350b8",
   "metadata": {},
   "outputs": [],
   "source": [
    "Rational_reduced_echelon, rank, Elementary_trace = normalize(Rational_Matrix, True)\n",
    "print(\"Rank of this matrix is:\", rank)\n",
    "show(Rational_reduced_echelon)"
   ]
  },
  {
   "cell_type": "code",
   "execution_count": null,
   "id": "321afd1f",
   "metadata": {},
   "outputs": [],
   "source": [
    "steps = StepByStep(Rational_Matrix, Elementary_trace)"
   ]
  },
  {
   "cell_type": "code",
   "execution_count": null,
   "id": "aa40fc40",
   "metadata": {},
   "outputs": [],
   "source": [
    "try:\n",
    "    next(steps)\n",
    "except:\n",
    "    print(\"This is the end of the algorithm!\")"
   ]
  },
  {
   "attachments": {},
   "cell_type": "markdown",
   "id": "dda4866e",
   "metadata": {},
   "source": [
    "We can compute the inverse of an invertible matrix by simply multipling all elementary matrices together."
   ]
  },
  {
   "cell_type": "code",
   "execution_count": null,
   "id": "018d092d",
   "metadata": {},
   "outputs": [],
   "source": [
    "# But be careful that the matrix multiplications don't commute!\n",
    "Elementary_trace.reverse()\n",
    "Inverse = reduce(mult, Elementary_trace, I(rank))\n",
    "show(Inverse)\n",
    "show(mult(Rational_Matrix, Inverse))"
   ]
  },
  {
   "attachments": {},
   "cell_type": "markdown",
   "id": "37c4caf0",
   "metadata": {},
   "source": [
    "## Details of the Implementation\n",
    "\n",
    "### Functional Paradigm / Category Theory\n",
    "\n",
    "- `map` applies a function on `a` to a list of `a`s:\n",
    "```map(increment, [1,2,3]) -> [increment(2), increment(3), increment(4)] -> [2,3,4]```\n",
    "- `reduce` / `fold` combines two elements of a list and accumulates the result\n",
    "  `fold(add, [1,2,3]) -> add(add(1,2),3)` -> 6\n",
    "\n",
    "### Iterative Version\n",
    "\n",
    "Perform Gauss algorithm (iterative)\n",
    "\n",
    "```python\n",
    "def gauss_algorithm_iterative(m: M, is_traced=False) -> tuple[M, int, list[M]]\n",
    "```\n",
    "\n",
    "1. Get most-left column with non-zero values, find best row for first column, otherwise ignore this column by increasing now_column\n",
    "2. If the top-row value is zero, then swap now_row with last non-zero row (or put to bottom using nullrow_cnt)\n",
    "3. Make zeroes below the pivot (by adding the respective inverse multiple)\n",
    "4. Perform 1-3 with remaining rows.\n",
    "\n",
    "It returns the reduced matrix(in echelon form), the rank and the trace of operations\n",
    "\n",
    "```python\n",
    "    nullrow_cnt = 0\n",
    "    now_row = 0\n",
    "    now_column = 0\n",
    "    row_dim = len(m)\n",
    "    trace = []\n",
    "    while now_row < row_dim - nullrow_cnt:\n",
    "        (pivot_index, pivot) = get_pivot(m[now_row])\n",
    "\n",
    "        if pivot_index == None:  # it's a nullrow\n",
    "            swap = S(row_dim, now_row, row_dim - 1 - nullrow_cnt)\n",
    "            trace.append(swap)\n",
    "            m = mult(swap, m)\n",
    "            nullrow_cnt += 1\n",
    "        else:\n",
    "            if pivot_index > now_column:  # there's still better pivot column at left\n",
    "                better_candidate = find_better_candidate(\n",
    "                    m, now_column, pivot_index, now_row\n",
    "                )\n",
    "                swap = S(row_dim, now_row, better_candidate)\n",
    "                trace.append(swap)\n",
    "                m = mult(swap, m)\n",
    "                (pivot_index, pivot) = get_pivot(\n",
    "                    m[now_row]\n",
    "                )  # after swapping, we must get the pivot again\n",
    "            col = column(m, pivot_index)\n",
    "            scalar = list(map(lambda c: c / pivot, col))\n",
    "            for k in range(now_row + 1, row_dim - nullrow_cnt):\n",
    "                if (\n",
    "                    -scalar[k] < 0 or -scalar[k] > 0\n",
    "                ):  # if already 0, we don't need to do anything\n",
    "                    addition = A(row_dim, k, now_row, -scalar[k])\n",
    "                    trace.append(addition)\n",
    "                    m = mult(addition, m)\n",
    "            now_row += 1\n",
    "            now_column += 1\n",
    "    if is_traced:\n",
    "        return (m, row_dim - nullrow_cnt, trace)\n",
    "    else:\n",
    "        return (m, row_dim - nullrow_cnt, [])\n",
    "```\n",
    "\n",
    "Let's check how `get_pivot` works:"
   ]
  },
  {
   "cell_type": "code",
   "execution_count": null,
   "id": "59f9edf2",
   "metadata": {},
   "outputs": [],
   "source": [
    "\n",
    "R1 = [3, 4, 0]\n",
    "print(get_pivot(R1), '\\t is (index, value) of the pivot of row ', R1)\n",
    "\n",
    "R2 = [0, 0, 1]\n",
    "print(get_pivot(R2), '\\t is (index, value) of the pivot or row ', R2)"
   ]
  },
  {
   "attachments": {},
   "cell_type": "markdown",
   "id": "d732be1a",
   "metadata": {},
   "source": [
    "And also `find_better_candidate`:"
   ]
  },
  {
   "cell_type": "code",
   "execution_count": null,
   "id": "60719063",
   "metadata": {},
   "outputs": [],
   "source": [
    "M1 = [[0, 0, 5], [0, 1, 0], [2, 4, 0]]\n",
    "show(M1)"
   ]
  },
  {
   "cell_type": "code",
   "execution_count": null,
   "id": "24ed5161",
   "metadata": {},
   "outputs": [],
   "source": [
    "print(find_better_candidate(M1, 0, 2, 0))"
   ]
  },
  {
   "attachments": {},
   "cell_type": "markdown",
   "id": "2be9d9f9",
   "metadata": {},
   "source": [
    "Normalize makes the matrix into a reduced echelon matrix.\n",
    "\n",
    "```python\n",
    "def normalize(m: M, is_traced=False) -> tuple[M, int, list[M]]\n",
    "```\n",
    "\n",
    "It applies the gauss algorithm first, then it goes from bottom(non-zero row) to top with following steps:\n",
    "\n",
    "1. Normalize the pivot element of this row into 1\n",
    "2. Make the element above the pivot zero by adding the respective additive inverse.\n",
    "3. Repeat 1-2 on the above row till the first row.\n",
    "\n",
    "It returns a tuple with reduced matrix, the rank of the matrix and trace of operations\n",
    "\n",
    "```python\n",
    "    row_dim = len(m)\n",
    "    (m, rank, trace) = gauss_algorithm_iterative(m, is_traced)\n",
    "    pivots = get_pivots(m) #get all pivots to make it faster later\n",
    "    for k in range(rank):\n",
    "        mul = M(row_dim, rank - k - 1, 1 / pivots[rank - k - 1][1]) #normalizing\n",
    "        if is_traced:\n",
    "            trace.append(mul)\n",
    "        m = mult(mul, m)\n",
    "        col_index = pivots[rank - k - 1][0] #the column above this pivot should be cleared\n",
    "        for r in range(rank - k - 1):\n",
    "            if -m[r][col_index] < 0 or -m[r][col_index] > 0:\n",
    "                addition = A(row_dim, r, rank - k - 1, -m[r][col_index]) #make the element zero\n",
    "                if is_traced:\n",
    "                    trace.append(addition)\n",
    "                m = mult(addition, m)\n",
    "    if is_traced:\n",
    "        return (m, rank, trace)\n",
    "    else:\n",
    "        return (m, rank, [])\n",
    "```"
   ]
  },
  {
   "attachments": {},
   "cell_type": "markdown",
   "id": "b03ce29a",
   "metadata": {},
   "source": [
    "### Recursive Version\n",
    "\n",
    "#TODO: Add code/comments"
   ]
  },
  {
   "attachments": {},
   "cell_type": "markdown",
   "id": "cd24b657",
   "metadata": {},
   "source": [
    "## Improvements / Refactoring\n",
    "\n",
    "- The gauss function is quite big and deeply nested. It would be nice to have separate functions matching the steps in the algorithm.\n",
    "- Implement different approaches, run performance tests and analyze. Maybe some heuristics can help to speed up unlucky cases (e.g. pivots all the way to the right)\n",
    "- What about correctness?\n",
    "  - e.g. numerical issues (convert int to fractions?)\n",
    "- Make precise drawings of the data structures and operations\n",
    "- Check properties and assert they hold within the algorithm.\n",
    "- Represent `Matrix` as a class with properties and functions\n",
    "- The bottleneck of this algorithm is the naive matrix multiplication (in a production environment it will be replaced by robust libraries and GPU acceleration)"
   ]
  },
  {
   "cell_type": "code",
   "execution_count": null,
   "id": "a2e77b43",
   "metadata": {},
   "outputs": [],
   "source": [
    "# yes\n",
    "print(0.2 + 0.2 == 0.4)\n",
    "\n",
    "# but\n",
    "print(0.2 + 0.1 == 0.3)\n",
    "print(0.2 - 0.2 == (((0.3 - 0.1) - 0.1) - 0.1))"
   ]
  },
  {
   "cell_type": "code",
   "execution_count": null,
   "id": "9be9c0a4",
   "metadata": {},
   "outputs": [],
   "source": [
    "# See how long it takes!\n",
    "gauss_algorithm_iterative(Big_Matrix)"
   ]
  }
 ],
 "metadata": {
  "kernelspec": {
   "display_name": "Python 3 (ipykernel)",
   "language": "python",
   "name": "python3"
  },
  "language_info": {
   "codemirror_mode": {
    "name": "ipython",
    "version": 3
   },
   "file_extension": ".py",
   "mimetype": "text/x-python",
   "name": "python",
   "nbconvert_exporter": "python",
   "pygments_lexer": "ipython3",
   "version": "3.10.7"
  }
 },
 "nbformat": 4,
 "nbformat_minor": 5
}
