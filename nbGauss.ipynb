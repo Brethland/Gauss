{
 "cells": [
  {
   "cell_type": "code",
   "execution_count": 3,
   "id": "ce96a8c8",
   "metadata": {},
   "outputs": [
    {
     "name": "stdout",
     "output_type": "stream",
     "text": [
      "Python 3.10.6\r\n"
     ]
    }
   ],
   "source": [
    "!python3 --version\n",
    "#!python --version\n",
    "#!jupyter --version\n",
    "\n",
    "import inspect\n",
    "\n",
    "from algebra import *\n",
    "from gauss_iterative import *\n",
    "from gauss_recursive import *\n",
    "from example import *"
   ]
  },
  {
   "cell_type": "markdown",
   "id": "a9df72f0",
   "metadata": {},
   "source": [
    "# Gaussian Elimination in plain python (no deps)"
   ]
  },
  {
   "cell_type": "markdown",
   "id": "9e75bc9e",
   "metadata": {},
   "source": [
    "## Motivation\n",
    "\n",
    "Gaussian algorithm is constantly performed in scientific computing of matrix.\n",
    "It is the basis of investigating many properties of matrix, like rank, inverse, kernel and of course the linear equation system. "
   ]
  },
  {
   "cell_type": "code",
   "execution_count": 21,
   "id": "6fe5b149",
   "metadata": {},
   "outputs": [
    {
     "name": "stdout",
     "output_type": "stream",
     "text": [
      "4\t1\t2\t3\n",
      "2\t0.5\t1\t-2\n",
      "0\t3\t0\t2\n",
      "4\t-2\t-1\t3\n",
      "\n"
     ]
    }
   ],
   "source": [
    "show(Demo_Matrix)"
   ]
  },
  {
   "cell_type": "markdown",
   "id": "71d5f56c",
   "metadata": {},
   "source": [
    "### Goal\n",
    "Translate the often human oriented algorithm instructions into proper tasks working on a computer.\n",
    "\n",
    "We have to find representations in code for concepts like \"cross the first column off mentally\" or\n",
    "\"swap the row with a *suitable* row\". \n",
    "\n",
    "We need to judge whether it makes sense to stick to the recipe (global vs. local vision) or if there are some (heuristic) shortcuts for the computer.\n",
    "\n",
    "![](gauss1.jpeg)\n",
    "_Source: Page 60 of the textbook of Fraleigh and Beauregard on Linear Algebra (3rd edition, 1995)._"
   ]
  },
  {
   "cell_type": "markdown",
   "id": "9c4a97d8",
   "metadata": {},
   "source": [
    "## Implementation\n",
    "\n",
    "### Datatypes for type hints\n",
    "```python\n",
    "from fractions import Fraction\n",
    "F = Fraction | float | int \n",
    "R = list[F]\n",
    "M = list[R]    # 0-based indexing\n",
    "```\n",
    "\n",
    "### Algebra on Matrix\n",
    "```python\n",
    "# Scalar Multiplication\n",
    "def scalar_mult(M1: M, k: F) -> M\n",
    "# Addition\n",
    "def add(M1: M, M2: M) -> M\n",
    "# Multiplication\n",
    "def mult(M1: M, M2: M) -> M\n",
    "# Take the cth-column\n",
    "def column(M1: M, c: int) -> R\n",
    "```\n",
    "\n",
    "### Actions and their Elementary Matrices\n",
    "```python\n",
    "# Identity Matrix\n",
    "def I(n: int) -> M\n",
    "# Swap two rows\n",
    "def S(n: int, r1: int, r2: int) -> M\n",
    "# Multiply a row a times\n",
    "def M(n: int, r1: int, a: F) -> M\n",
    "# Add a times of r2 into r1\n",
    "def A(n: int, r1: int, r2: int, a: F) -> M\n",
    "```\n",
    "\n",
    "### Properties\n",
    "```python\n",
    "def is_nullrow(row: R) -> bool:\n",
    "\n",
    "def is_identity_matrix(m: M) -> bool:\n",
    "\n",
    "```\n",
    "### Helpers\n",
    "```python\n",
    "def show(m: M):\n",
    "def show_indent(m: M, indent: int):\n",
    "\n",
    "class StepByStep:\n",
    "     \"\"\"A class containing matrix and a stack of elementary operations,\n",
    "     applying them one by one\"\"\"\n",
    "```"
   ]
  },
  {
   "cell_type": "markdown",
   "id": "7b8d911d",
   "metadata": {},
   "source": [
    "### Basic algebra function in use"
   ]
  },
  {
   "cell_type": "code",
   "execution_count": 19,
   "id": "e6c5eafe",
   "metadata": {},
   "outputs": [
    {
     "name": "stdout",
     "output_type": "stream",
     "text": [
      "1\t2\t3\n",
      "2\t0\t1\n",
      "1\t2\t5\n",
      "\n",
      "10\t20\t30\n",
      "20\t0\t10\n",
      "10\t20\t50\n",
      "\n",
      "3\t6\t9\n",
      "2\t0\t1\n",
      "1\t2\t5\n",
      "\n",
      "[1, 2, 1]\n"
     ]
    }
   ],
   "source": [
    "simpleM = [ [1,2,3], [2,0,1], [1,2,5] ]\n",
    "\n",
    "show(simpleM)\n",
    "\n",
    "## Scale the matrix by 10:\n",
    "show(scalar_mult(simpleM, 10))\n",
    "\n",
    "## Scale row0 by 3\n",
    "show(mult(M(3, 0, 3), simpleM))\n",
    "\n",
    "## Project first column:\n",
    "print(column(simpleM, 0))"
   ]
  },
  {
   "cell_type": "markdown",
   "id": "b0a5f26e",
   "metadata": {},
   "source": [
    "## Demos\n",
    "Let's first show some examples."
   ]
  },
  {
   "cell_type": "code",
   "execution_count": 2,
   "id": "4eb23f0e",
   "metadata": {},
   "outputs": [
    {
     "name": "stdout",
     "output_type": "stream",
     "text": [
      "3.50\t-2.00\t1.00\n",
      "-3.10\t5.60\t0.00\n",
      "4.70\t0.00\t-1.30\n",
      "\n"
     ]
    }
   ],
   "source": [
    "show(Real_Matrix)"
   ]
  },
  {
   "cell_type": "code",
   "execution_count": 32,
   "id": "23e1388a",
   "metadata": {},
   "outputs": [
    {
     "name": "stdout",
     "output_type": "stream",
     "text": [
      "3.50\t-2.00\t1.00\n",
      "0.00\t3.83\t0.89\n",
      "0.00\t0.00\t-3.26\n",
      "\n"
     ]
    }
   ],
   "source": [
    "Real_echelon, _, Elementary_trace = gauss_algorithm_iterative(Real_Matrix, True)\n",
    "show(Real_echelon)"
   ]
  },
  {
   "cell_type": "code",
   "execution_count": 33,
   "id": "c3276273",
   "metadata": {},
   "outputs": [],
   "source": [
    "steps = StepByStep(Real_Matrix, Elementary_trace)"
   ]
  },
  {
   "cell_type": "code",
   "execution_count": 34,
   "id": "3bcaba39",
   "metadata": {},
   "outputs": [
    {
     "name": "stdout",
     "output_type": "stream",
     "text": [
      "3.50\t-2.00\t1.00\n",
      "0.00\t3.83\t0.89\n",
      "4.70\t0.00\t-1.30\n",
      "\n",
      "\n",
      "3.50\t-2.00\t1.00\n",
      "0.00\t3.83\t0.89\n",
      "0.00\t2.69\t-2.64\n",
      "\n",
      "\n",
      "3.50\t-2.00\t1.00\n",
      "0.00\t3.83\t0.89\n",
      "0.00\t0.00\t-3.26\n",
      "\n",
      "\n",
      "This is the end of the algorithm!\n"
     ]
    }
   ],
   "source": [
    "while True:\n",
    "    try:\n",
    "        next(steps)\n",
    "        input()\n",
    "    except:\n",
    "        print(\"This is the end of the algorithm!\")\n",
    "        break"
   ]
  },
  {
   "cell_type": "code",
   "execution_count": 7,
   "id": "b4e4b60b",
   "metadata": {},
   "outputs": [
    {
     "name": "stdout",
     "output_type": "stream",
     "text": [
      "2\t1\t0\t0\n",
      "3\t5\t-1\t-3\n",
      "0\t3\t-1\t0\n",
      "1\t4\t0\t-2\n",
      "\n"
     ]
    }
   ],
   "source": [
    "show(Rational_Matrix)"
   ]
  },
  {
   "cell_type": "code",
   "execution_count": 8,
   "id": "20b350b8",
   "metadata": {},
   "outputs": [
    {
     "name": "stdout",
     "output_type": "stream",
     "text": [
      "Rank of this matrix is: 4\n",
      "1\t0\t0\t0\n",
      "0\t1\t0\t0\n",
      "0\t0\t1\t0\n",
      "0\t0\t0\t1\n",
      "\n"
     ]
    }
   ],
   "source": [
    "Rational_reduced_echelon, rank, Elementary_trace = normalize(Rational_Matrix, True)\n",
    "print(\"Rank of this matrix is:\", rank)\n",
    "show(Rational_reduced_echelon)"
   ]
  },
  {
   "cell_type": "code",
   "execution_count": 27,
   "id": "321afd1f",
   "metadata": {},
   "outputs": [],
   "source": [
    "steps = StepByStep(Rational_Matrix, Elementary_trace)"
   ]
  },
  {
   "cell_type": "code",
   "execution_count": 28,
   "id": "aa40fc40",
   "metadata": {},
   "outputs": [
    {
     "name": "stdout",
     "output_type": "stream",
     "text": [
      "2\t1\t0\t0\n",
      "0\t7/2\t-1\t-3\n",
      "0\t3\t-1\t0\n",
      "1\t4\t0\t-2\n",
      "\n",
      "2\t1\t0\t0\n",
      "0\t7/2\t-1\t-3\n",
      "0\t3\t-1\t0\n",
      "0\t7/2\t0\t-2\n",
      "\n",
      "2\t1\t0\t0\n",
      "0\t7/2\t-1\t-3\n",
      "0\t0\t-1/7\t18/7\n",
      "0\t7/2\t0\t-2\n",
      "\n",
      "2\t1\t0\t0\n",
      "0\t7/2\t-1\t-3\n",
      "0\t0\t-1/7\t18/7\n",
      "0\t0\t1\t1\n",
      "\n",
      "2\t1\t0\t0\n",
      "0\t7/2\t-1\t-3\n",
      "0\t0\t-1/7\t18/7\n",
      "0\t0\t0\t19\n",
      "\n",
      "2\t1\t0\t0\n",
      "0\t7/2\t-1\t-3\n",
      "0\t0\t-1/7\t18/7\n",
      "0\t0\t0\t1\n",
      "\n",
      "2\t1\t0\t0\n",
      "0\t7/2\t-1\t0\n",
      "0\t0\t-1/7\t18/7\n",
      "0\t0\t0\t1\n",
      "\n",
      "2\t1\t0\t0\n",
      "0\t7/2\t-1\t0\n",
      "0\t0\t-1/7\t0\n",
      "0\t0\t0\t1\n",
      "\n",
      "2\t1\t0\t0\n",
      "0\t7/2\t-1\t0\n",
      "0\t0\t1\t0\n",
      "0\t0\t0\t1\n",
      "\n",
      "2\t1\t0\t0\n",
      "0\t7/2\t0\t0\n",
      "0\t0\t1\t0\n",
      "0\t0\t0\t1\n",
      "\n",
      "2\t1\t0\t0\n",
      "0\t1\t0\t0\n",
      "0\t0\t1\t0\n",
      "0\t0\t0\t1\n",
      "\n",
      "2\t0\t0\t0\n",
      "0\t1\t0\t0\n",
      "0\t0\t1\t0\n",
      "0\t0\t0\t1\n",
      "\n",
      "1\t0\t0\t0\n",
      "0\t1\t0\t0\n",
      "0\t0\t1\t0\n",
      "0\t0\t0\t1\n",
      "\n",
      "This is the end of the algorithm!\n"
     ]
    }
   ],
   "source": [
    "while True:\n",
    "    try:\n",
    "        next(steps)\n",
    "    except:\n",
    "        print(\"This is the end of the algorithm!\")\n",
    "        break"
   ]
  },
  {
   "cell_type": "markdown",
   "id": "dda4866e",
   "metadata": {},
   "source": [
    "We can compute the inverse of an invertible matrix by simply multipling all elementary matrices together."
   ]
  },
  {
   "cell_type": "code",
   "execution_count": 29,
   "id": "018d092d",
   "metadata": {},
   "outputs": [
    {
     "name": "stdout",
     "output_type": "stream",
     "text": [
      "8/19\t2/19\t-2/19\t-3/19\n",
      "3/19\t-4/19\t4/19\t6/19\n",
      "9/19\t-12/19\t-7/19\t18/19\n",
      "10/19\t-7/19\t7/19\t1/19\n",
      "\n",
      "1\t0\t0\t0\n",
      "0\t1\t0\t0\n",
      "0\t0\t1\t0\n",
      "0\t0\t0\t1\n",
      "\n"
     ]
    }
   ],
   "source": [
    "# But be careful that the matrix multiplications don't commute!\n",
    "Elementary_trace.reverse()\n",
    "Inverse = reduce(mult, Elementary_trace, I(rank))\n",
    "show(Inverse)\n",
    "show(mult(Rational_Matrix, Inverse))"
   ]
  },
  {
   "cell_type": "markdown",
   "id": "37c4caf0",
   "metadata": {},
   "source": [
    "## Details of the Implementation\n",
    "\n",
    "### Functional Paradigm / Category Theory\n",
    "\n",
    "- `map` applies a function on `a` to a list of `a`s:\n",
    "```map(increment, [1,2,3]) -> [increment(2), increment(3), increment(4)] -> [2,3,4]```\n",
    "- `reduce` / `fold` combines two elements of a list and accumulates the result\n",
    "  `fold(add, [1,2,3]) -> add(add(1,2),3)` -> 6\n",
    "- `zip` two lists, pairs them up: zip([1,2], [10,20]) -> [(1,10), (2,20)]\n",
    "- `filter` takes a property function and a list and returns only those elements that match the property.\n",
    "\n",
    "### Iterative Version\n",
    "\n",
    "Perform Gauss algorithm (iterative)\n",
    "\n",
    "```python\n",
    "def gauss_algorithm_iterative(m: M, is_traced=False) -> tuple[M, int, list[M]]\n",
    "```\n",
    "\n",
    "1. Get most-left column with non-zero values, find best row for first column, otherwise ignore this column by increasing now_column\n",
    "2. If the top-row value is zero, then swap now_row with last non-zero row (or put to bottom using nullrow_cnt)\n",
    "3. Make zeroes below the pivot (by adding the respective inverse multiple)\n",
    "4. Perform 1-3 with remaining rows.\n",
    "\n",
    "It returns the reduced matrix(in echelon form), the rank and the trace of operations\n",
    "\n",
    "```python\n",
    "    nullrow_cnt = 0\n",
    "    now_row = 0\n",
    "    now_column = 0\n",
    "    row_dim = len(m)\n",
    "    trace = []\n",
    "    while now_row < row_dim - nullrow_cnt:\n",
    "        (pivot_index, pivot) = get_pivot(m[now_row])\n",
    "\n",
    "        if pivot_index == None:  # it's a nullrow\n",
    "            swap = S(row_dim, now_row, row_dim - 1 - nullrow_cnt)\n",
    "            trace.append(swap)\n",
    "            m = mult(swap, m)\n",
    "            nullrow_cnt += 1\n",
    "        else:\n",
    "            if pivot_index > now_column:  # there's still better pivot column at left\n",
    "                better_candidate = find_better_candidate(\n",
    "                    m, now_column, pivot_index, now_row\n",
    "                )\n",
    "                swap = S(row_dim, now_row, better_candidate)\n",
    "                trace.append(swap)\n",
    "                m = mult(swap, m)\n",
    "                (pivot_index, pivot) = get_pivot(\n",
    "                    m[now_row]\n",
    "                )  # after swapping, we must get the pivot again\n",
    "            col = column(m, pivot_index)\n",
    "            scalar = list(map(lambda c: c / pivot, col))\n",
    "            for k in range(now_row + 1, row_dim - nullrow_cnt):\n",
    "                if (\n",
    "                    -scalar[k] < 0 or -scalar[k] > 0\n",
    "                ):  # if already 0, we don't need to do anything\n",
    "                    addition = A(row_dim, k, now_row, -scalar[k])\n",
    "                    trace.append(addition)\n",
    "                    m = mult(addition, m)\n",
    "            now_row += 1\n",
    "            now_column += 1\n",
    "    if is_traced:\n",
    "        return (m, row_dim - nullrow_cnt, trace)\n",
    "    else:\n",
    "        return (m, row_dim - nullrow_cnt, [])\n",
    "```\n",
    "\n",
    "Let's check how `get_pivot` works:"
   ]
  },
  {
   "cell_type": "code",
   "execution_count": null,
   "id": "59f9edf2",
   "metadata": {},
   "outputs": [],
   "source": [
    "\n",
    "R1 = [3, 4, 0]\n",
    "print(get_pivot(R1), '\\t is (index, value) of the pivot of row ', R1)\n",
    "\n",
    "R2 = [0, 0, 1]\n",
    "print(get_pivot(R2), '\\t is (index, value) of the pivot or row ', R2)"
   ]
  },
  {
   "cell_type": "markdown",
   "id": "d732be1a",
   "metadata": {},
   "source": [
    "And also `find_better_candidate`:"
   ]
  },
  {
   "cell_type": "code",
   "execution_count": null,
   "id": "60719063",
   "metadata": {},
   "outputs": [],
   "source": [
    "M1 = [[0, 0, 5], [0, 1, 0], [2, 4, 0]]\n",
    "show(M1)"
   ]
  },
  {
   "cell_type": "code",
   "execution_count": null,
   "id": "24ed5161",
   "metadata": {},
   "outputs": [],
   "source": [
    "print(find_better_candidate(M1, 0, 2, 0))"
   ]
  },
  {
   "cell_type": "markdown",
   "id": "2be9d9f9",
   "metadata": {},
   "source": [
    "Normalize makes the matrix into a reduced echelon matrix.\n",
    "\n",
    "```python\n",
    "def normalize(m: M, is_traced=False) -> tuple[M, int, list[M]]\n",
    "```\n",
    "\n",
    "It applies the gauss algorithm first, then it goes from bottom(non-zero row) to top with following steps:\n",
    "\n",
    "1. Normalize the pivot element of this row into 1\n",
    "2. Make the element above the pivot zero by adding the respective additive inverse.\n",
    "3. Repeat 1-2 on the above row till the first row.\n",
    "\n",
    "It returns a tuple with reduced matrix, the rank of the matrix and trace of operations\n",
    "\n",
    "```python\n",
    "    row_dim = len(m)\n",
    "    (m, rank, trace) = gauss_algorithm_iterative(m, is_traced)\n",
    "    pivots = get_pivots(m) #get all pivots to make it faster later\n",
    "    for k in range(rank):\n",
    "        mul = M(row_dim, rank - k - 1, 1 / pivots[rank - k - 1][1]) #normalizing\n",
    "        if is_traced:\n",
    "            trace.append(mul)\n",
    "        m = mult(mul, m)\n",
    "        col_index = pivots[rank - k - 1][0] #the column above this pivot should be cleared\n",
    "        for r in range(rank - k - 1):\n",
    "            if -m[r][col_index] < 0 or -m[r][col_index] > 0:\n",
    "                addition = A(row_dim, r, rank - k - 1, -m[r][col_index]) #make the element zero\n",
    "                if is_traced:\n",
    "                    trace.append(addition)\n",
    "                m = mult(addition, m)\n",
    "    if is_traced:\n",
    "        return (m, rank, trace)\n",
    "    else:\n",
    "        return (m, rank, [])\n",
    "```"
   ]
  },
  {
   "cell_type": "markdown",
   "id": "2c990b67",
   "metadata": {},
   "source": [
    "![](gauss_recursive.png)"
   ]
  },
  {
   "cell_type": "markdown",
   "id": "b03ce29a",
   "metadata": {},
   "source": [
    "### Recursive Version\n",
    "\n",
    "```python\n",
    "trace = True\n",
    "\n",
    "\n",
    "def find_pivot_row_index(column: R) -> int:\n",
    "    \"\"\"Assuming `column` contains a non-zero value, find it's (row) index\"\"\"\n",
    "    for i in range(0, len(column)):\n",
    "        if column[i] != 0:\n",
    "            return i\n",
    "        else:\n",
    "            i += 1\n",
    "            continue\n",
    "\n",
    "\n",
    "def gauss_rec(\n",
    "    m: M, nowrow: int, nowcol: int, n_rows: int, n_cols: int, stack, depth: int\n",
    ") -> tuple[M, list[M]]:\n",
    "    \"\"\"\n",
    "    Recursive implementation of gauss elimination.\n",
    "\n",
    "    1. Establish a useful toprow by finding left-most pivot row. Skip zero columns and swap rows if necessary.\n",
    "    1.1 As long as zero-column, increment nowcol\n",
    "    1.2 Current nowcol is guaranteed to have a non-zero entry in some row. (as it's not a zero column)\n",
    "    2. Create zeroes below the pivot\n",
    "    3. Solve recursively for m with `nowrow - 1` and `nowcol - 1`\n",
    "    4. Return current matrix and stack once running out of rows or cols.\n",
    "\n",
    "    Prints the transformed matrices for each step, with a natural language description and\n",
    "    returns the accumulated list of elementary_matrices.\n",
    "\n",
    "    \"\"\"\n",
    "\n",
    "    indentation = \"\\t\" * depth\n",
    "\n",
    "    if trace: print(f\"\\n{indentation}Working on matrix of size {n_rows - nowrow} x {n_cols - nowcol}\")\n",
    "\n",
    "    # Base case of recursion\n",
    "    if nowrow == n_rows - 1 or nowcol == n_cols - 1:\n",
    "        return m, stack\n",
    "\n",
    "    \n",
    "    # 1. Skip any zero columns\n",
    "\n",
    "    while is_nullrow(column(m[nowrow:], nowcol)):\n",
    "        if trace: print(f\"\\n{indentation}Skipping at least one zero-column...\")\n",
    "        nowcol += 1\n",
    "        if nowcol == n_cols - 1:\n",
    "            return m, stack\n",
    "\n",
    "    if trace: print(f\"\\n{indentation}-- Establish a useful toprow --\")\n",
    "\n",
    "    # 2. Establish a useful toprow, swap if necessary. column(m, nowcol) is guaranteed to have a pivotrow\n",
    "    \n",
    "    pivot = m[nowrow][nowcol]\n",
    "    if pivot == 0:\n",
    "        better_row = find_pivot_row_index(column(m[nowrow + 1:], nowcol)) + nowrow + 1\n",
    "        elem_swap = S(n_rows, nowrow, better_row)\n",
    "        if trace:\n",
    "            stack.append(elem_swap)\n",
    "        m = mult(elem_swap, m)\n",
    "        pivot = m[nowrow][nowcol] # update pivot to reflect row swap\n",
    "        assert pivot != 0\n",
    "        if trace:\n",
    "            print(\n",
    "                    f\"\\n{indentation}Swapped row {nowrow + 1} with good pivot row {better_row + 1}\\n\"\n",
    "            )\n",
    "            show_indent(m, depth)\n",
    "    elif trace:\n",
    "        print(f\"\\n{indentation}No need to swap rows. Current pivot is fine\\n\")\n",
    "\n",
    "    \n",
    "\n",
    "    # TODO: normalize toprow by dividing by it's pivot simplifying the computation of inv_scalar. Leads to reduced row echelon form?!\n",
    "\n",
    "    if trace:\n",
    "        print(f\"\\n{indentation}-- Create zeroes below the pivot --\")\n",
    "        \n",
    "    # 3. Create zeroes below the pivot\n",
    "    \n",
    "    for rowindex in range(nowrow + 1, n_rows):\n",
    "        if m[rowindex][nowcol] == 0: continue  # entry below pivot is already 0\n",
    "        else:\n",
    "            inv_scalar = -(m[rowindex][nowcol] / pivot)\n",
    "            elem_add = A(n_rows, rowindex, nowrow, inv_scalar)\n",
    "        if trace: stack.append(elem_add)\n",
    "        m = mult(elem_add, m)\n",
    "        if trace: print(\n",
    "                f\"\\n{indentation}Created 0 below pivot in row {rowindex + 1} by adding {inv_scalar} * row {nowrow + 1} to it.\\n\"\n",
    "            )\n",
    "            show_indent(m, depth)\n",
    "\n",
    "    return gauss_rec(m, nowrow + 1, nowcol + 1, n_rows, n_cols, stack, depth + 1)\n",
    "\n",
    "\n",
    "def gauss_rec_go(m: M):\n",
    "    \"\"\"run recursive gauss_split with initial values\"\"\"\n",
    "    n_rows = len(m)\n",
    "    n_cols = len(m[0])\n",
    "    if n_rows == 1 and n_cols == 1:\n",
    "        return m\n",
    "    if m == [[0] * n_cols] * n_rows:\n",
    "        return m\n",
    "    print(\"Bring the following matrix to row_echelon form:\\n\")\n",
    "    show(m)\n",
    "    return gauss_rec(m, 0, 0, n_rows, n_cols, [], 0)\n",
    "\n",
    "```"
   ]
  },
  {
   "cell_type": "code",
   "execution_count": null,
   "id": "2710a047",
   "metadata": {},
   "outputs": [],
   "source": []
  },
  {
   "cell_type": "markdown",
   "id": "cd24b657",
   "metadata": {},
   "source": [
    "## Improvements / Refactoring\n",
    "\n",
    "- The gauss function is quite big and deeply nested. It would be nice to have separate functions matching the steps in the algorithm.\n",
    "- Implement different approaches, run performance tests and analyze. Maybe some heuristics can help to speed up unlucky cases (e.g. pivots all the way to the right)\n",
    "- What about correctness?\n",
    "  - e.g. numerical issues (convert int to fractions?)\n",
    "- Proper testing of edge cases.\n",
    "- Check properties and assert they hold within the algorithm. (like invariants)\n",
    "- Represent `Matrix` as a class with properties and functions; find more appropriate model than `list[list[F]]`\n",
    "- The bottleneck of this algorithm is the naive matrix multiplication (in a production environment it will be replaced by robust libraries and GPU acceleration)\n",
    "- Swapping lists instead of swapping via elementary_swap_matrix could be cheaper."
   ]
  },
  {
   "cell_type": "markdown",
   "id": "26cbf6f1",
   "metadata": {},
   "source": [
    "### numerical issues of unreal reals"
   ]
  },
  {
   "cell_type": "code",
   "execution_count": 1,
   "id": "a2e77b43",
   "metadata": {},
   "outputs": [
    {
     "name": "stdout",
     "output_type": "stream",
     "text": [
      "True\n",
      "False\n",
      "False\n"
     ]
    }
   ],
   "source": [
    "# yes\n",
    "print(0.2 + 0.2 == 0.4)\n",
    "\n",
    "# but\n",
    "print(0.2 + 0.1 == 0.3)\n",
    "print(0.2 - 0.2 == (((0.3 - 0.1) - 0.1) - 0.1))"
   ]
  },
  {
   "cell_type": "code",
   "execution_count": null,
   "id": "9be9c0a4",
   "metadata": {},
   "outputs": [],
   "source": [
    "# See how long it takes!\n",
    "#gauss_algorithm_iterative(Big_Matrix)"
   ]
  },
  {
   "cell_type": "markdown",
   "id": "60fbc20e",
   "metadata": {},
   "source": [
    "## Appendix, more code samples"
   ]
  },
  {
   "cell_type": "markdown",
   "id": "a634d4e6",
   "metadata": {},
   "source": [
    "### inverting, asserting identity, non-invertible"
   ]
  },
  {
   "cell_type": "code",
   "execution_count": 11,
   "id": "120965ed",
   "metadata": {},
   "outputs": [
    {
     "name": "stdout",
     "output_type": "stream",
     "text": [
      "1\t2\t3\n",
      "2\t0\t1\n",
      "1\t2\t5\n",
      "\n",
      "1\t2\t3\n",
      "2\t0\t1\n",
      "1\t2\t5\n",
      "\n",
      "0.25\t0.50\t-0.25\n",
      "1.12\t-0.25\t-0.62\n",
      "-0.50\t0.00\t0.50\n",
      "\n",
      "1.00\t0.00\t0.00\n",
      "0.00\t1.00\t0.00\n",
      "0.00\t0.00\t1.00\n",
      "\n"
     ]
    }
   ],
   "source": [
    "simpleM = [ [1,2,3], [2,0,1], [1,2,5] ]\n",
    "\n",
    "show(simpleM)\n",
    "show(mult(I(len(simpleM)), simpleM))\n",
    "\n",
    "show(inverse(simpleM))\n",
    "show(mult(simpleM, inverse(simpleM))) # == id"
   ]
  },
  {
   "cell_type": "code",
   "execution_count": 6,
   "id": "ff182ba1",
   "metadata": {
    "scrolled": true
   },
   "outputs": [
    {
     "name": "stdout",
     "output_type": "stream",
     "text": [
      "1\t0\t0\n",
      "0\t1\t0\n",
      "0\t0\t1\n",
      "\n"
     ]
    }
   ],
   "source": [
    "show(I(len(simpleM)))"
   ]
  },
  {
   "cell_type": "code",
   "execution_count": 29,
   "id": "f9856f16",
   "metadata": {},
   "outputs": [
    {
     "name": "stdout",
     "output_type": "stream",
     "text": [
      "Bring the following matrix to row_echelon form:\n",
      "\n",
      "1\t2\t3\n",
      "0\t0\t1\n",
      "1\t2\t5\n",
      "\n",
      "\n",
      "Working on matrix of size 3 x 3\n",
      "\n",
      "-- Establish a useful toprow --\n",
      "\n",
      "No need to swap rows. Current pivot is fine\n",
      "\n",
      "\n",
      "-- Create zeroes below the pivot --\n",
      "\n",
      "Created 0 below pivot in row 3 by adding -1.0 * row 1 to it.\n",
      "\n",
      "1\t2\t3\n",
      "0\t0\t1\n",
      "0.0\t0.0\t2.0\n",
      "\n",
      "\tWorking on matrix of size 2 x 2\n",
      "\n",
      "\tSkipping at least one zero-column...\n",
      "\n",
      "Sorry, this failed. Could not invert that matrix\n",
      "\n"
     ]
    }
   ],
   "source": [
    "# not invertible\n",
    "notinvM = [ [1,2,3], [0,0,1], [1,2,5]]\n",
    "\n",
    "gauss_rec_go(notinvM)\n",
    "\n",
    "\n",
    "try:\n",
    "    show(inverse(notinvM))  # inverting fails\n",
    "except:\n",
    "    print(\"\\n\\n\\nSorry, this failed. Could not invert that matrix\\n\")"
   ]
  },
  {
   "cell_type": "code",
   "execution_count": null,
   "id": "4431eda7",
   "metadata": {},
   "outputs": [],
   "source": []
  }
 ],
 "metadata": {
  "kernelspec": {
   "display_name": "Python 3 (ipykernel)",
   "language": "python",
   "name": "python3"
  },
  "language_info": {
   "codemirror_mode": {
    "name": "ipython",
    "version": 3
   },
   "file_extension": ".py",
   "mimetype": "text/x-python",
   "name": "python",
   "nbconvert_exporter": "python",
   "pygments_lexer": "ipython3",
   "version": "3.10.6"
  }
 },
 "nbformat": 4,
 "nbformat_minor": 5
}
