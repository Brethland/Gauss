{
 "cells": [
  {
   "cell_type": "code",
   "execution_count": 23,
   "id": "ce96a8c8",
   "metadata": {},
   "outputs": [
    {
     "name": "stdout",
     "output_type": "stream",
     "text": [
      "Python 3.10.6\r\n"
     ]
    }
   ],
   "source": [
    "!python3 --version\n",
    "#!python --version\n",
    "#!jupyter --version"
   ]
  },
  {
   "cell_type": "markdown",
   "id": "a9df72f0",
   "metadata": {},
   "source": [
    "# Gaussian Elimination in plan python"
   ]
  },
  {
   "cell_type": "code",
   "execution_count": null,
   "id": "c3276273",
   "metadata": {},
   "outputs": [],
   "source": []
  }
 ],
 "metadata": {
  "kernelspec": {
   "display_name": "Python 3 (ipykernel)",
   "language": "python",
   "name": "python3"
  },
  "language_info": {
   "codemirror_mode": {
    "name": "ipython",
    "version": 3
   },
   "file_extension": ".py",
   "mimetype": "text/x-python",
   "name": "python",
   "nbconvert_exporter": "python",
   "pygments_lexer": "ipython3",
   "version": "3.10.6"
  }
 },
 "nbformat": 4,
 "nbformat_minor": 5
}
