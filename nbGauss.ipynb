{
 "cells": [
  {
   "cell_type": "code",
   "execution_count": 54,
   "id": "ce96a8c8",
   "metadata": {},
   "outputs": [
    {
     "name": "stdout",
     "output_type": "stream",
     "text": [
      "Python 3.10.6\r\n"
     ]
    }
   ],
   "source": [
    "!python3 --version\n",
    "#!python --version\n",
    "#!jupyter --version\n",
    "\n",
    "import inspect\n",
    "\n",
    "import gauss as G\n",
    "import algebra as A\n",
    "import elementary_matrix as E\n",
    "import properties as P"
   ]
  },
  {
   "cell_type": "markdown",
   "id": "a9df72f0",
   "metadata": {},
   "source": [
    "# Gaussian Elimination in plain python"
   ]
  },
  {
   "cell_type": "markdown",
   "id": "5b14fb7f",
   "metadata": {},
   "source": [
    "## Motivation\n",
    "\n",
    "...\n",
    "\n",
    "### Issues\n",
    "Translate the often human oriented algorithm instructions into proper tasks for a computer to do.\n",
    "\n",
    "We have to find representations in code for concepts like \"cross the first column off mentally\""
   ]
  },
  {
   "cell_type": "markdown",
   "id": "3a836754",
   "metadata": {},
   "source": [
    "## Implementation\n",
    "\n",
    "### Datatypes for type hints\n",
    "```python\n",
    "from fractions import Fraction\n",
    "F = Fraction | float | int \n",
    "Row = list[F]\n",
    "M = list[Row]\n",
    "```\n",
    "\n",
    "### Algebra Module\n",
    "\n",
    "\n",
    "### Actions and their Elementary Matrices\n",
    "\n"
   ]
  },
  {
   "cell_type": "markdown",
   "id": "578ecb00",
   "metadata": {},
   "source": [
    "## Examples\n"
   ]
  },
  {
   "cell_type": "code",
   "execution_count": 56,
   "id": "b1c8275d",
   "metadata": {},
   "outputs": [],
   "source": [
    "\n",
    "Mat = [ [1,2,3],\n",
    "        [0,0,6],\n",
    "        [3,2,1],\n",
    "        [0,0,0] ]\n"
   ]
  },
  {
   "cell_type": "code",
   "execution_count": 57,
   "id": "9c58cfe8",
   "metadata": {},
   "outputs": [
    {
     "name": "stdout",
     "output_type": "stream",
     "text": [
      "(0, 1)\n",
      "(2, 6)\n"
     ]
    }
   ],
   "source": [
    "print(A.get_pivot(Mat[0]))\n",
    "print(A.get_pivot(Mat[1]))"
   ]
  },
  {
   "cell_type": "code",
   "execution_count": 58,
   "id": "45b48322",
   "metadata": {},
   "outputs": [
    {
     "data": {
      "text/plain": [
       "[(0, 1), (2, 6), (0, 3), (None, None)]"
      ]
     },
     "execution_count": 58,
     "metadata": {},
     "output_type": "execute_result"
    }
   ],
   "source": [
    "A.get_pivots(Mat)"
   ]
  },
  {
   "cell_type": "code",
   "execution_count": 24,
   "id": "c3276273",
   "metadata": {},
   "outputs": [],
   "source": []
  },
  {
   "cell_type": "code",
   "execution_count": 47,
   "id": "b9fe2cb5",
   "metadata": {},
   "outputs": [],
   "source": [
    "#dir(G)\n",
    "#print(inspect.signature(G.add))\n",
    "#print(inspect.getsource(G.add))\n",
    "#print(inspect.signature.__doc__)\n",
    "#print(inspect.get_annotations(G.add))"
   ]
  },
  {
   "cell_type": "code",
   "execution_count": null,
   "id": "cb06ba8c",
   "metadata": {},
   "outputs": [],
   "source": []
  },
  {
   "cell_type": "code",
   "execution_count": 48,
   "id": "fab5c7d9",
   "metadata": {},
   "outputs": [
    {
     "name": "stdout",
     "output_type": "stream",
     "text": [
      "1\t2\n",
      "2\t3\n",
      "1\t2\t3\n",
      "2\t3\t4\n"
     ]
    },
    {
     "data": {
      "text/plain": [
       "[None, None]"
      ]
     },
     "execution_count": 48,
     "metadata": {},
     "output_type": "execute_result"
    }
   ],
   "source": [
    "ms = [ [[1,2],[2,3]], [ [1,2,3], [2,3,4] ]]\n",
    "list(map(P.show, ms))"
   ]
  },
  {
   "cell_type": "code",
   "execution_count": 41,
   "id": "c1c793d3",
   "metadata": {},
   "outputs": [
    {
     "name": "stdout",
     "output_type": "stream",
     "text": [
      "1\t2\n",
      "2\t3\n"
     ]
    }
   ],
   "source": [
    "P.show([[1,2], [2,3]])"
   ]
  },
  {
   "cell_type": "code",
   "execution_count": null,
   "id": "856646c5",
   "metadata": {},
   "outputs": [],
   "source": []
  },
  {
   "cell_type": "code",
   "execution_count": null,
   "id": "78c40bf2",
   "metadata": {},
   "outputs": [],
   "source": []
  },
  {
   "cell_type": "code",
   "execution_count": null,
   "id": "1c909a40",
   "metadata": {},
   "outputs": [],
   "source": []
  },
  {
   "cell_type": "code",
   "execution_count": null,
   "id": "8f3f0fa7",
   "metadata": {},
   "outputs": [],
   "source": []
  },
  {
   "cell_type": "markdown",
   "id": "34e8f1ca",
   "metadata": {},
   "source": [
    "## Functional Paradigm / Category Theory\n",
    "\n",
    "- `map` applies a function on `a` to a list of `a`s:\n",
    "```map(increment, [1,2,3]) -> [increment(2), increment(3), increment(4)] -> [2,3,4]```\n",
    "- `reduce` / `fold` combines two elements of a list and accumulates the result\n",
    "  `fold(add, [1,2,3]) -> add(add(1,2),3)` -> 6"
   ]
  },
  {
   "cell_type": "markdown",
   "id": "aac21da8",
   "metadata": {},
   "source": [
    "## Improvements / Refactoring\n",
    "\n",
    "- The gauss function is quite big and deeply nested. It would be nice to have separate functions matching the steps in the algorithm.\n",
    "- Implement different approaches, run performance tests and analyze. Maybe some heuristics can help to speed up unlucky cases (e.g. pivots all the way to the right)\n",
    "- What about correctness?\n",
    "- Make precise drawings of the data structures and operations\n",
    "- Check properties and assert they hold within the algorithm.\n",
    "- Represent `Matrix` as a class with properties and functions"
   ]
  },
  {
   "cell_type": "code",
   "execution_count": null,
   "id": "4d1b6d9c",
   "metadata": {},
   "outputs": [],
   "source": []
  }
 ],
 "metadata": {
  "kernelspec": {
   "display_name": "Python 3 (ipykernel)",
   "language": "python",
   "name": "python3"
  },
  "language_info": {
   "codemirror_mode": {
    "name": "ipython",
    "version": 3
   },
   "file_extension": ".py",
   "mimetype": "text/x-python",
   "name": "python",
   "nbconvert_exporter": "python",
   "pygments_lexer": "ipython3",
   "version": "3.10.6"
  }
 },
 "nbformat": 4,
 "nbformat_minor": 5
}
