{
 "cells": [
  {
   "cell_type": "code",
   "execution_count": 54,
   "id": "ce96a8c8",
   "metadata": {},
   "outputs": [
    {
     "name": "stdout",
     "output_type": "stream",
     "text": [
      "Python 3.10.6\r\n"
     ]
    }
   ],
   "source": [
    "!python3 --version\n",
    "#!python --version\n",
    "#!jupyter --version\n",
    "\n",
    "import inspect\n",
    "\n",
    "import gauss as G\n",
    "import algebra as A\n",
    "import elementary_matrix as E\n",
    "import properties as P"
   ]
  },
  {
   "cell_type": "markdown",
   "id": "a9df72f0",
   "metadata": {},
   "source": [
    "# Gaussian Elimination in plain python"
   ]
  },
  {
   "cell_type": "markdown",
   "id": "71d5f56c",
   "metadata": {},
   "source": [
    "## Motivation\n",
    "\n",
    "...\n",
    "\n",
    "### Issues\n",
    "Translate the often human oriented algorithm instructions into proper tasks for a computer to do.\n",
    "\n",
    "We have to find representations in code for concepts like \"cross the first column off mentally\" or\n",
    "\"swap the row with a suitable row\""
   ]
  },
  {
   "cell_type": "markdown",
   "id": "9c4a97d8",
   "metadata": {},
   "source": [
    "## Implementation\n",
    "\n",
    "### Datatypes for type hints\n",
    "```python\n",
    "from fractions import Fraction\n",
    "F = Fraction | float | int \n",
    "Row = list[F]\n",
    "M = list[Row]\n",
    "```\n",
    "\n",
    "### Algebra Module\n",
    "\n",
    "\n",
    "### Actions and their Elementary Matrices\n",
    "\n"
   ]
  },
  {
   "cell_type": "markdown",
   "id": "b0a5f26e",
   "metadata": {},
   "source": [
    "## Examples\n"
   ]
  },
  {
   "cell_type": "code",
   "execution_count": 56,
   "id": "4eb23f0e",
   "metadata": {},
   "outputs": [],
   "source": [
    "\n",
    "Mat = [ [1,2,3],\n",
    "        [0,0,6],\n",
    "        [3,2,1],\n",
    "        [0,0,0] ]\n"
   ]
  },
  {
   "cell_type": "code",
   "execution_count": 57,
   "id": "7a5b69d1",
   "metadata": {},
   "outputs": [
    {
     "name": "stdout",
     "output_type": "stream",
     "text": [
      "(0, 1)\n",
      "(2, 6)\n"
     ]
    }
   ],
   "source": [
    "print(A.get_pivot(Mat[0]))\n",
    "print(A.get_pivot(Mat[1]))"
   ]
  },
  {
   "cell_type": "code",
   "execution_count": 58,
   "id": "4f1c5e5b",
   "metadata": {},
   "outputs": [
    {
     "data": {
      "text/plain": [
       "[(0, 1), (2, 6), (0, 3), (None, None)]"
      ]
     },
     "execution_count": 58,
     "metadata": {},
     "output_type": "execute_result"
    }
   ],
   "source": [
    "A.get_pivots(Mat)"
   ]
  },
  {
   "cell_type": "code",
   "execution_count": 24,
   "id": "c3276273",
   "metadata": {},
   "outputs": [],
   "source": []
  },
  {
   "cell_type": "code",
   "execution_count": 47,
   "id": "00363ff1",
   "metadata": {},
   "outputs": [],
   "source": [
    "#dir(G)\n",
    "#print(inspect.signature(G.add))\n",
    "#print(inspect.getsource(G.add))\n",
    "#print(inspect.signature.__doc__)\n",
    "#print(inspect.get_annotations(G.add))"
   ]
  },
  {
   "cell_type": "code",
   "execution_count": null,
   "id": "2d253e92",
   "metadata": {},
   "outputs": [],
   "source": []
  },
  {
   "cell_type": "code",
   "execution_count": 48,
   "id": "2adc225a",
   "metadata": {},
   "outputs": [
    {
     "name": "stdout",
     "output_type": "stream",
     "text": [
      "1\t2\n",
      "2\t3\n",
      "1\t2\t3\n",
      "2\t3\t4\n"
     ]
    },
    {
     "data": {
      "text/plain": [
       "[None, None]"
      ]
     },
     "execution_count": 48,
     "metadata": {},
     "output_type": "execute_result"
    }
   ],
   "source": [
    "ms = [ [[1,2],[2,3]], [ [1,2,3], [2,3,4] ]]\n",
    "list(map(P.show, ms))"
   ]
  },
  {
   "cell_type": "code",
   "execution_count": 41,
   "id": "91a4e7da",
   "metadata": {},
   "outputs": [
    {
     "name": "stdout",
     "output_type": "stream",
     "text": [
      "1\t2\n",
      "2\t3\n"
     ]
    }
   ],
   "source": [
    "P.show([[1,2], [2,3]])"
   ]
  },
  {
   "cell_type": "code",
   "execution_count": null,
   "id": "1e19ffba",
   "metadata": {},
   "outputs": [],
   "source": []
  },
  {
   "cell_type": "code",
   "execution_count": null,
   "id": "2a26e864",
   "metadata": {},
   "outputs": [],
   "source": []
  },
  {
   "cell_type": "code",
   "execution_count": null,
   "id": "b4a72fc0",
   "metadata": {},
   "outputs": [],
   "source": []
  },
  {
   "cell_type": "code",
   "execution_count": null,
   "id": "344d1d2d",
   "metadata": {},
   "outputs": [],
   "source": []
  },
  {
   "cell_type": "markdown",
   "id": "75249b4b",
   "metadata": {},
   "source": [
    "## Functional Paradigm / Category Theory\n",
    "\n",
    "- `map` applies a function on `a` to a list of `a`s:\n",
    "```map(increment, [1,2,3]) -> [increment(2), increment(3), increment(4)] -> [2,3,4]```\n",
    "- `reduce` / `fold` combines two elements of a list and accumulates the result\n",
    "  `fold(add, [1,2,3]) -> add(add(1,2),3)` -> 6"
   ]
  },
  {
   "cell_type": "markdown",
   "id": "cd24b657",
   "metadata": {},
   "source": [
    "## Improvements / Refactoring\n",
    "\n",
    "- The gauss function is quite big and deeply nested. It would be nice to have separate functions matching the steps in the algorithm.\n",
    "- Implement different approaches, run performance tests and analyze. Maybe some heuristics can help to speed up unlucky cases (e.g. pivots all the way to the right)\n",
    "- What about correctness?\n",
    "  - e.g. numerical issues (convert int to fractions?)\n",
    "- Make precise drawings of the data structures and operations\n",
    "- Check properties and assert they hold within the algorithm.\n",
    "- Represent `Matrix` as a class with properties and functions"
   ]
  },
  {
   "cell_type": "code",
   "execution_count": 66,
   "id": "a2e77b43",
   "metadata": {},
   "outputs": [
    {
     "name": "stdout",
     "output_type": "stream",
     "text": [
      "True\n",
      "False\n",
      "False\n"
     ]
    }
   ],
   "source": [
    "# yes\n",
    "print(0.2 + 0.2 == 0.4)\n",
    "\n",
    "# but\n",
    "print(0.2 + 0.1 == 0.3)\n",
    "print(0.2 - 0.2 == (((0.3 - 0.1) - 0.1) - 0.1))"
   ]
  },
  {
   "cell_type": "code",
   "execution_count": null,
   "id": "9be9c0a4",
   "metadata": {},
   "outputs": [],
   "source": []
  }
 ],
 "metadata": {
  "kernelspec": {
   "display_name": "Python 3 (ipykernel)",
   "language": "python",
   "name": "python3"
  },
  "language_info": {
   "codemirror_mode": {
    "name": "ipython",
    "version": 3
   },
   "file_extension": ".py",
   "mimetype": "text/x-python",
   "name": "python",
   "nbconvert_exporter": "python",
   "pygments_lexer": "ipython3",
   "version": "3.10.6"
  }
 },
 "nbformat": 4,
 "nbformat_minor": 5
}
